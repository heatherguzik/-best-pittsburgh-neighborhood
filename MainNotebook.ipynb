{
 "cells": [
  {
   "cell_type": "markdown",
   "metadata": {},
   "source": [
    "# Big Ideas Final Project"
   ]
  },
  {
   "cell_type": "markdown",
   "metadata": {},
   "source": [
    "## Introduction\n",
    "\n",
    "Our final project asks us to find the \"best neighborhood in Pittsburgh\" using data from the WPRDC. Our approach to this project was immediately to find the best neighborhood to live in. We didn't have issue finding submetrics to base this on: the neighborhood you want to live in is the safest, cheapest, and nicest-looking one. Other alternatives like pollution, recycling, or simply how mindful a negihborhood is was looked at as well, but in the end the best neighborhood is the one with the most livable qualities."
   ]
  },
  {
   "cell_type": "markdown",
   "metadata": {},
   "source": [
    "## The Metric\n",
    "\n",
    "The main metric we used to determine the best neighborhood in the City of Pittsburgh is overall quality of life. To do this, we used 3 sub-metrics: safety, affordability, and environment. \n",
    "\n",
    "### Safety\n",
    "In order to determine how safe a neighborhood is, we utilized a dataset that tracks information about arrests. We used the logic that the fewer the arrests in a neighborhood, the safer that neighborhood is. \n",
    "\n",
    "### Affordability\n",
    "To determine the affordability of a neighborhood, we used a dataset that included the estimated total rent price. The lower the average rent price, the more affordable the neighborhood is. \n",
    "\n",
    "### Environment\n",
    "Finally, to decide the quality of the environment in a neighborhood, we used a dataset which logged each tree in a neighborhood. The neighborhoods with the highest number of trees are the best for the environemnt."
   ]
  },
  {
   "cell_type": "markdown",
   "metadata": {},
   "source": [
    "## The Best Neighborhood"
   ]
  },
  {
   "cell_type": "markdown",
   "metadata": {},
   "source": [
    "Allegheny West, while not the absolute lowest, has the 20th lowest amount of arrests in the 90 neighborhoods in Pittsburgh."
   ]
  },
  {
   "cell_type": "code",
   "execution_count": 2,
   "metadata": {},
   "outputs": [
    {
     "ename": "ModuleNotFoundError",
     "evalue": "No module named 'pandas'",
     "output_type": "error",
     "traceback": [
      "\u001b[1;31m---------------------------------------------------------------------------\u001b[0m",
      "\u001b[1;31mModuleNotFoundError\u001b[0m                       Traceback (most recent call last)",
      "Cell \u001b[1;32mIn[2], line 1\u001b[0m\n\u001b[1;32m----> 1\u001b[0m \u001b[38;5;28;01mimport\u001b[39;00m \u001b[38;5;21;01mpandas\u001b[39;00m \u001b[38;5;28;01mas\u001b[39;00m \u001b[38;5;21;01mpd\u001b[39;00m\n\u001b[0;32m      3\u001b[0m \u001b[38;5;66;03m# Reading the csv file\u001b[39;00m\n\u001b[0;32m      4\u001b[0m arrest_data \u001b[38;5;241m=\u001b[39m pd\u001b[38;5;241m.\u001b[39mread_csv(\u001b[38;5;124m\"\u001b[39m\u001b[38;5;124mCity of Pittsburgh Arrest Data Set.csv\u001b[39m\u001b[38;5;124m\"\u001b[39m)\n",
      "\u001b[1;31mModuleNotFoundError\u001b[0m: No module named 'pandas'"
     ]
    }
   ],
   "source": [
    "import pandas as pd\n",
    "\n",
    "# Reading the csv file\n",
    "arrest_data = pd.read_csv(\"City of Pittsburgh Arrest Data Set.csv\")\n",
    "\n",
    "# Count the number of arrests per neighborhood\n",
    "arrest_counts = arrest_data[\"INCIDENTNEIGHBORHOOD\"].value_counts().sort_values(ascending=True)\n",
    "\n",
    "# Display the neighborhoods with the least amount of arrests\n",
    "arrest_counts.head(30)\n"
   ]
  },
  {
   "cell_type": "markdown",
   "metadata": {},
   "source": [
    "## Conclusion"
   ]
  },
  {
   "cell_type": "code",
   "execution_count": null,
   "metadata": {},
   "outputs": [],
   "source": []
  }
 ],
 "metadata": {
  "kernelspec": {
   "display_name": "Python 3",
   "language": "python",
   "name": "python3"
  },
  "language_info": {
   "codemirror_mode": {
    "name": "ipython",
    "version": 3
   },
   "file_extension": ".py",
   "mimetype": "text/x-python",
   "name": "python",
   "nbconvert_exporter": "python",
   "pygments_lexer": "ipython3",
   "version": "3.11.9"
  }
 },
 "nbformat": 4,
 "nbformat_minor": 4
}
