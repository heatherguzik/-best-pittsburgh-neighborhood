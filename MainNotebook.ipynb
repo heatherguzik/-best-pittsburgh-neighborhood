{
 "cells": [
  {
   "cell_type": "markdown",
   "metadata": {},
   "source": [
    "# Big Ideas Final Project"
   ]
  },
  {
   "cell_type": "markdown",
   "metadata": {},
   "source": [
    "## Introduction\n",
    "\n",
    "BIG IDEAS"
   ]
  },
  {
   "cell_type": "markdown",
   "metadata": {},
   "source": [
    "## The Metric\n",
    "\n",
    "The main metric we used to determine the best neighborhood in the City of Pittsburgh is overall quality of life. To do this, we used 3 sub-metrics: safety, affordability, and environment. \n",
    "\n",
    "### Safety\n",
    "In order to determine how safe a neighborhood is, we utilized a dataset that tracks information about arrests. We used the logic that the fewer the arrests in a neighborhood, the safer that neighborhood is. \n",
    "\n",
    "### Affordability\n",
    "To determine the affordability of a neighborhood, we used a dataset that included the estimated total rent price. The lower the average rent price, the more affordable the neighborhood is. \n",
    "\n",
    "### Environment\n",
    "Finally, to decide the quality of the environment in a neighborhood, we used a dataset which logged each tree in a neighborhood. The neighborhoods with the highest number of trees are the best for the environemnt."
   ]
  },
  {
   "cell_type": "markdown",
   "metadata": {},
   "source": [
    "## The Best Neighborhood"
   ]
  },
  {
   "cell_type": "markdown",
   "metadata": {},
   "source": [
    "## Conclusion"
   ]
  },
  {
   "cell_type": "code",
   "execution_count": null,
   "metadata": {},
   "outputs": [],
   "source": []
  }
 ],
 "metadata": {
  "kernelspec": {
   "display_name": "Python 3",
   "language": "python",
   "name": "python3"
  },
  "language_info": {
   "codemirror_mode": {
    "name": "ipython",
    "version": 3
   },
   "file_extension": ".py",
   "mimetype": "text/x-python",
   "name": "python",
   "nbconvert_exporter": "python",
   "pygments_lexer": "ipython3",
   "version": "3.8.3"
  }
 },
 "nbformat": 4,
 "nbformat_minor": 4
}
