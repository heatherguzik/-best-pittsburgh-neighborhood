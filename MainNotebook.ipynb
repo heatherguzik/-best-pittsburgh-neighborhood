{
 "cells": [
  {
   "cell_type": "markdown",
   "metadata": {},
   "source": [
    "# Big Ideas Final Project"
   ]
  },
  {
   "cell_type": "markdown",
   "metadata": {},
   "source": [
    "## Introduction\n",
    "\n",
    "Our final project asks us to find the \\\"best neighborhood in Pittsburgh\\\" using data from the WPRDC. Our approach to this project was immediately to find the best neighborhood to live in. We didn't have issue finding submetrics to base this on: the neighborhood you want to live in is the safest, cheapest, and nicest-looking one. Other alternatives like pollution, recycling, or simply how mindful a negihborhood is was looked at as well, but in the end the best neighborhood is the one with the most livable qualities."
   ]
  },
  {
   "cell_type": "markdown",
   "metadata": {},
   "source": [
    "## The Metric\n",
    "\n",
    "The main metric we used to determine the best neighborhood in the City of Pittsburgh is overall quality of life. To do this, we used 3 sub-metrics: safety, affordability, and environment. \n",
    "\n",
    "### Safety\n",
    "In order to determine how safe a neighborhood is, we utilized a dataset that tracks information about arrests. We used the logic that the fewer the arrests in a neighborhood, the safer that neighborhood is. \n",
    "\n",
    "### Affordability\n",
    "To determine the affordability of a neighborhood, we used a dataset that included the estimated total rent price. The lower the average rent price, the more affordable the neighborhood is. \n",
    "\n",
    "### Environment\n",
    "Finally, to decide the quality of the environment in a neighborhood, we used a dataset which logged each tree in a neighborhood. The neighborhoods with the highest number of trees are the best for the environemnt. "
   ]
  },
  {
   "cell_type": "markdown",
   "metadata": {},
   "source": [
    "## The Best Neighborhood"
   ]
  },
  {
   "cell_type": "markdown",
   "metadata": {},
   "source": [
    "Allegheny West, while not the absolute lowest, has the 20th lowest amount of arrests in the 90 neighborhoods in Pittsburgh."
   ]
  },
  {
   "cell_type": "code",
   "execution_count": 2,
   "metadata": {},
   "outputs": [
    {
     "data": {
      "text/plain": [
       "INCIDENTNEIGHBORHOOD\n",
       "Mt. Oliver Neighborhood          2\n",
       "Troy Hill-Herrs Island           6\n",
       "Mt. Oliver Boro                 18\n",
       "Central Northside               23\n",
       "Ridgemont                       37\n",
       "Regent Square                   37\n",
       "New Homestead                   39\n",
       "Swisshelm Park                  43\n",
       "Chartiers City                  46\n",
       "East Carnegie                   48\n",
       "St. Clair                       55\n",
       "Outside County                  57\n",
       "Outside State                   67\n",
       "Summer Hill                     76\n",
       "Oakwood                         82\n",
       "Golden Triangle/Civic Arena     83\n",
       "Hays                           120\n",
       "Windgap                        124\n",
       "Mount Oliver                   124\n",
       "Fairywood                      127\n",
       "Allegheny West                 130\n",
       "Arlington Heights              155\n",
       "Polish Hill                    166\n",
       "Glen Hazel                     169\n",
       "Friendship                     174\n",
       "Morningside                    188\n",
       "Upper Lawrenceville            189\n",
       "Duquesne Heights               191\n",
       "Esplen                         200\n",
       "Spring Garden                  219\n",
       "Name: count, dtype: int64"
      ]
     },
     "execution_count": 2,
     "metadata": {},
     "output_type": "execute_result"
    }
   ],
   "source": [
    "import pandas as pd\n",
    "\n",
    "# Reading the csv file\n",
    "arrest_data = pd.read_csv(\"City of Pittsburgh Arrest Data Set.csv\")\n",
    "\n",
    "# Count the number of arrests per neighborhood\n",
    "arrest_counts = arrest_data[\"INCIDENTNEIGHBORHOOD\"].value_counts().sort_values(ascending=True)\n",
    "\n",
    "# Display the neighborhoods with the least amount of arrests\n",
    "arrest_counts.head(30)"
   ]
  },
  {
   "cell_type": "markdown",
   "metadata": {},
   "source": [
    "Allegheny West has the 10th lowest average aggregate rent cost of the 90 neighborhoods in Pittsburgh."
   ]
  },
  {
   "cell_type": "code",
   "execution_count": 3,
   "metadata": {},
   "outputs": [
    {
     "data": {
      "text/plain": [
       "Neighborhood\n",
       "Chateau            0.0\n",
       "New Homestead      4.0\n",
       "South Shore        8.0\n",
       "Ridgemont         26.0\n",
       "Esplen            34.0\n",
       "Bon Air           46.0\n",
       "Chartiers City    49.0\n",
       "St. Clair         52.0\n",
       "Swisshelm Park    60.0\n",
       "Allegheny West    73.0\n",
       "Name: Estimate; Total:, dtype: float64"
      ]
     },
     "execution_count": 3,
     "metadata": {},
     "output_type": "execute_result"
    }
   ],
   "source": [
    "contract_rent_data = pd.read_csv(\"City of Pittsburgh Contract Rent.csv\")\n",
    "\n",
    "# Calculate the average estimate total for every neighborhood\n",
    "average_estimates = contract_rent_data.groupby(\"Neighborhood\")[\"Estimate; Total:\"].mean()\n",
    "average_estimates_sorted = average_estimates.sort_values(ascending=True)\n",
    "\n",
    "# display values\n",
    "average_estimates_sorted.head(10)"
   ]
  },
  {
   "cell_type": "markdown",
   "metadata": {},
   "source": [
    "Contract Rent Graph Part"
   ]
  },
  {
   "cell_type": "markdown",
   "metadata": {},
   "source": [
    "Allegheny West has the 41st most trees in the city. While not that high, it's the neighborhood that meets the most of the data-driven metrics we've made."
   ]
  },
  {
   "cell_type": "code",
   "execution_count": 10,
   "metadata": {},
   "outputs": [
    {
     "data": {
      "text/plain": [
       "neighborhood\n",
       "Squirrel Hill South          5073\n",
       "Highland Park                2941\n",
       "Squirrel Hill North          2083\n",
       "South Side Flats             1693\n",
       "Shadyside                    1558\n",
       "Bloomfield                   1436\n",
       "East Liberty                 1366\n",
       "Point Breeze                 1316\n",
       "Perry North                  1007\n",
       "Central Business District    1002\n",
       "Brighton Heights              910\n",
       "Mount Washington              874\n",
       "Allegheny Center              867\n",
       "Brookline                     853\n",
       "North Oakland                 775\n",
       "Carrick                       772\n",
       "Greenfield                    745\n",
       "Central Lawrenceville         713\n",
       "Manchester                    707\n",
       "Stanton Heights               700\n",
       "Central Northside             674\n",
       "Hazelwood                     652\n",
       "Garfield                      626\n",
       "Beechview                     611\n",
       "Crawford-Roberts              568\n",
       "Point Breeze North            566\n",
       "Lincoln-Lemington-Belmar      525\n",
       "Lower Lawrenceville           508\n",
       "Marshall-Shadeland            488\n",
       "Strip District                486\n",
       "East Hills                    483\n",
       "Morningside                   461\n",
       "Homewood South                459\n",
       "North Shore                   457\n",
       "Banksville                    437\n",
       "Regent Square                 434\n",
       "Knoxville                     432\n",
       "Homewood North                403\n",
       "Sheraden                      392\n",
       "East Allegheny                391\n",
       "Allegheny West                386\n",
       "Name: count, dtype: int64"
      ]
     },
     "execution_count": 10,
     "metadata": {},
     "output_type": "execute_result"
    }
   ],
   "source": [
    "tree_data = pd.read_csv(\"City of Pittsburgh Trees.csv\", usecols=[\"id\", \"neighborhood\", \"height\", \"width\", \"stems\"])\n",
    "\n",
    "tree_counts = tree_data[\"neighborhood\"].value_counts().sort_values(ascending=False)\n",
    "tree_counts.head(41)"
   ]
  },
  {
   "cell_type": "markdown",
   "metadata": {},
   "source": []
  },
  {
   "cell_type": "markdown",
   "metadata": {},
   "source": [
    "## Conclusion"
   ]
  },
  {
   "cell_type": "markdown",
   "metadata": {},
   "source": [
    "### Heather's Conclusion\n",
    "Based on the data within the datasets we used, we came to the conclusion that Allegheny West is the neighborhood with the best quality of life in the City of Pittsburgh. While I have personally never spent much time in this area, it seems like a good choice due to its standing when it comes to safety, affordability, and environment. However, my personal favorite neighborhood is Squirrel Hill, as I have spent the most time here and there is a lot to do. However, Squirrel Hill is one of the most expensive neighborhoods in Pittsburgh, so it did not perform well in our metric of affordability.\n",
    "\n",
    "### Joshua's Conclusion"
   ]
  },
  {
   "cell_type": "markdown",
   "metadata": {},
   "source": []
  }
 ],
 "metadata": {
  "kernelspec": {
   "display_name": "Python 3",
   "language": "python",
   "name": "python3"
  },
  "language_info": {
   "codemirror_mode": {
    "name": "ipython",
    "version": 3
   },
   "file_extension": ".py",
   "mimetype": "text/x-python",
   "name": "python",
   "nbconvert_exporter": "python",
   "pygments_lexer": "ipython3",
   "version": "3.11.9"
  }
 },
 "nbformat": 4,
 "nbformat_minor": 4
}
