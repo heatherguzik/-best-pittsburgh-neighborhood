{
 "cells": [
  {
   "cell_type": "markdown",
   "metadata": {},
   "source": [
    "# Big Ideas Final Project"
   ]
  },
  {
   "cell_type": "code",
   "execution_count": null,
   "metadata": {},
   "outputs": [],
   "source": []
  },
  {
   "cell_type": "markdown",
   "metadata": {},
   "source": [
    "## Introduction\n",
    "\n",
    "Our final project asks us to find the \\\"best neighborhood in Pittsburgh\\\" using data from the WPRDC. Our approach to this project was immediately to find the best neighborhood to live in. We didn't have issue finding submetrics to base this on: the neighborhood you want to live in is the safest, cheapest, and nicest-looking one. Other alternatives like pollution, recycling, or simply how mindful a negihborhood is was looked at as well, but in the end the best neighborhood is the one with the most livable qualities."
   ]
  },
  {
   "cell_type": "markdown",
   "metadata": {},
   "source": [
    "## The Metric\n",
    "\n",
    "The main metric we used to determine the best neighborhood in the City of Pittsburgh is overall quality of life. To do this, we used 3 sub-metrics: safety, affordability, and environment. \n",
    "\n",
    "### Safety\n",
    "In order to determine how safe a neighborhood is, we utilized a dataset that tracks information about arrests. We used the logic that the fewer the arrests in a neighborhood, the safer that neighborhood is. \n",
    "\n",
    "### Affordability\n",
    "To determine the affordability of a neighborhood, we used a dataset that included the estimated total rent price. The lower the average rent price, the more affordable the neighborhood is. \n",
    "\n",
    "### Environment\n",
    "Finally, to decide the quality of the environment in a neighborhood, we used a dataset which logged each tree in a neighborhood. The neighborhoods with the highest number of trees are the best for the environemnt."
   ]
  },
  {
   "cell_type": "markdown",
   "metadata": {},
   "source": [
    "## The Best Neighborhood"
   ]
  },
  {
   "cell_type": "markdown",
   "metadata": {},
   "source": [
    "Allegheny West, while not the absolute lowest, has the 20th lowest amount of arrests in the 90 neighborhoods in Pittsburgh."
   ]
  },
  {
   "cell_type": "code",
   "execution_count": 1,
   "metadata": {},
   "outputs": [
    {
     "data": {
      "text/plain": [
       "INCIDENTNEIGHBORHOOD\n",
       "Mt. Oliver Neighborhood          2\n",
       "Troy Hill-Herrs Island           6\n",
       "Mt. Oliver Boro                 18\n",
       "Central Northside               23\n",
       "Ridgemont                       37\n",
       "Regent Square                   37\n",
       "New Homestead                   39\n",
       "Swisshelm Park                  43\n",
       "Chartiers City                  46\n",
       "East Carnegie                   48\n",
       "St. Clair                       55\n",
       "Outside County                  57\n",
       "Outside State                   67\n",
       "Summer Hill                     76\n",
       "Oakwood                         82\n",
       "Golden Triangle/Civic Arena     83\n",
       "Hays                           120\n",
       "Windgap                        124\n",
       "Mount Oliver                   124\n",
       "Fairywood                      127\n",
       "Allegheny West                 130\n",
       "Arlington Heights              155\n",
       "Polish Hill                    166\n",
       "Glen Hazel                     169\n",
       "Friendship                     174\n",
       "Morningside                    188\n",
       "Upper Lawrenceville            189\n",
       "Duquesne Heights               191\n",
       "Esplen                         200\n",
       "Spring Garden                  219\n",
       "Name: count, dtype: int64"
      ]
     },
     "execution_count": 1,
     "metadata": {},
     "output_type": "execute_result"
    }
   ],
   "source": [
    "import pandas as pd\n",
    "\n",
    "# Reading the csv file\n",
    "arrest_data = pd.read_csv(\"City of Pittsburgh Arrest Data Set.csv\")\n",
    "\n",
    "# Count the number of arrests per neighborhood\n",
    "arrest_counts = arrest_data[\"INCIDENTNEIGHBORHOOD\"].value_counts().sort_values(ascending=True)\n",
    "\n",
    "# Display the neighborhoods with the least amount of arrests\n",
    "arrest_counts.head(30)"
   ]
  },
  {
   "cell_type": "markdown",
   "metadata": {},
   "source": []
  },
  {
   "cell_type": "markdown",
   "metadata": {},
   "source": [
    "## Conclusion"
   ]
  },
  {
   "cell_type": "code",
   "execution_count": null,
   "metadata": {},
   "outputs": [],
   "source": []
  }
 ],
 "metadata": {
  "kernelspec": {
   "display_name": "Python 3",
   "language": "python",
   "name": "python3"
  },
  "language_info": {
   "codemirror_mode": {
    "name": "ipython",
    "version": 3
   },
   "file_extension": ".py",
   "mimetype": "text/x-python",
   "name": "python",
   "nbconvert_exporter": "python",
   "pygments_lexer": "ipython3",
   "version": "3.11.9"
  }
 },
 "nbformat": 4,
 "nbformat_minor": 4
}
